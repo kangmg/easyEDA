{
 "cells": [
  {
   "cell_type": "code",
   "execution_count": 54,
   "metadata": {},
   "outputs": [],
   "source": [
    "import glob\n",
    "import numpy as np\n",
    "import math"
   ]
  },
  {
   "cell_type": "code",
   "execution_count": 64,
   "metadata": {},
   "outputs": [],
   "source": [
    "def load_coordinates(name):\n",
    "    file_name= name+'.xyz'\n",
    "    path = f\"coordinates/{file_name}\"\n",
    "    with open(path, 'r') as file:\n",
    "        content = file.read()\n",
    "    return content.strip()\n",
    "\n",
    "'''\n",
    "def head_remover(xyz):\n",
    "    xyz_lines = xyz.strip().split('\\n')\n",
    "    if len(xyz_lines[0]) == 1:\n",
    "        xyz_data = xyz_lines[2:]\n",
    "    elif len(xyz_lines[0]) == 4:\n",
    "        xyz_data = xyz_lines\n",
    "    else:\n",
    "        print(\"Check your xyz file format!\")    \n",
    "'''\n",
    "\n",
    "def head_remover(xyz_lines):\n",
    "    if len(xyz_lines[0].split()) == 1:\n",
    "        xyz_lines = xyz_lines[2:]\n",
    "    elif len(xyz_lines[0].split()) == 4:\n",
    "        xyz_lines = xyz_lines\n",
    "    else:\n",
    "        print(\"Check your xyz file format!\")\n",
    "    return xyz_lines\n",
    "\n",
    "def distance(atom1, atom2):\n",
    " #   atom1_array = np.array(atom1.split()[0:])\n",
    " #   atom2_array = np.array(atom2.split()[0:])\n",
    "    x1, y1, z1 = float(np.array(atom1))\n",
    "    x2, y2, z2 = float(np.array(atom2))\n",
    "    distance = math.sqrt((x2 - x1)**2 + (y2 - y1)**2 + (z2 - z1)**2)\n",
    "    return distance\n",
    "\n",
    "def angle(atom1, atom2, atom3): \n",
    "    atom1_coord = np.array(atom1.split()[0:])\n",
    "    atom2_coord = np.array(atom2.split()[0:])\n",
    "    atom3_coord = np.array(atom3.split()[0:])\n",
    "\n",
    "    vector1 = np.array(atom1_coord) - np.array(atom2_coord)\n",
    "    vector3 = np.array(atom3_coord) - np.array(atom2_coord)\n",
    "\n",
    "    dot_product = np.dot(vector1, vector3)\n",
    "    magnitude1 = np.linalg.norm(vector1)\n",
    "    magnitude3 = np.linalg.norm(vector3)\n",
    "\n",
    "    angle_radians = np.arccos(dot_product / (magnitude1 * magnitude3))\n",
    "    angle_degrees = np.degrees(angle_radians)\n",
    "\n",
    "    return angle_degrees\n",
    "\n",
    "def dihedral_angle(atom1, atom2, atom3, atom4):\n",
    "\n",
    "    atom1_array = np.array(atom1.split()[0:])\n",
    "    atom2_array = np.array(atom2.split()[0:])\n",
    "    atom3_array = np.array(atom3.split()[0:])\n",
    "    atom4_array = np.array(atom4.split()[0:])\n",
    "    \n",
    "    b1 = np.array(atom2_array) - np.array(atom1_array)\n",
    "    b2 = np.array(atom3_array) - np.array(atom2_array)\n",
    "    b3 = np.array(atom4_array) - np.array(atom3_array)\n",
    "\n",
    "    v1 = np.cross(b1, b2)\n",
    "    v2 = np.cross(b2, b3)\n",
    "\n",
    "    angle = np.arctan2(np.linalg.norm(np.cross(v1, v2)), np.dot(v1, v2))\n",
    "    angle_degrees = np.degrees(angle)\n",
    "\n",
    "    if angle_degrees < 0:\n",
    "        angle_degrees += 360.0\n",
    "\n",
    "    return angle_degrees\n",
    "\n",
    "    "
   ]
  },
  {
   "cell_type": "code",
   "execution_count": 62,
   "metadata": {},
   "outputs": [],
   "source": [
    "def x_axis(type, index_list):\n",
    "\n",
    "    with open('path.txt', 'r') as path_file:\n",
    "        path = path_file.read().strip().split()\n",
    "    path_coordinates = {}\n",
    "    for irc in path:\n",
    "        path_coordinates[irc] = load_coordinates(irc)\n",
    "\n",
    "    xaxis =[]\n",
    "    if type == 'distance':\n",
    "        for irc in path:\n",
    "            coordinate = path_coordinates[irc].split('\\n')\n",
    "            coordinate = head_remover(coordinate)\n",
    "            coordi_list_with_sym = [coordinate[key] for key in index_list]\n",
    "            coordi_list = [xyz_line.split()[1:] for xyz_line in coordi_list_with_sym]\n",
    "            xaxis.append(distance(*coordi_list))\n",
    "    elif type == 'angle':\n",
    "        for irc in path:\n",
    "            coordinate = path_coordinates[irc].split('\\n')\n",
    "            coordinate = head_remover(coordinate)\n",
    "            coordi_list_with_sym = [coordinate[key] for key in index_list]\n",
    "            xaxis.append(angle(*coordi_list))\n",
    "    elif type == 'dihedral angle':\n",
    "        for irc in path:\n",
    "            coordinate = path_coordinates[irc].split('\\n')\n",
    "            coordinate = head_remover(coordinate)\n",
    "            coordi_list_with_sym = [coordinate[key] for key in index_list]\n",
    "            xaxis.append(dihedral_angle(*coordi_list))\n",
    "\n",
    "    return xaxis"
   ]
  },
  {
   "cell_type": "code",
   "execution_count": null,
   "metadata": {},
   "outputs": [],
   "source": [
    "with open('path.txt', 'r') as path_file:\n",
    "    path = path_file.read().strip().split()\n",
    "\n",
    "path_coordinates = {}\n",
    "for irc in path:\n",
    "    path_coordinates[irc] = load_coordinates(irc)\n"
   ]
  },
  {
   "cell_type": "code",
   "execution_count": 65,
   "metadata": {},
   "outputs": [
    {
     "ename": "TypeError",
     "evalue": "only length-1 arrays can be converted to Python scalars",
     "output_type": "error",
     "traceback": [
      "\u001b[0;31m---------------------------------------------------------------------------\u001b[0m",
      "\u001b[0;31mTypeError\u001b[0m                                 Traceback (most recent call last)",
      "Cell \u001b[0;32mIn[65], line 1\u001b[0m\n\u001b[0;32m----> 1\u001b[0m \u001b[38;5;28mprint\u001b[39m(\u001b[43mx_axis\u001b[49m\u001b[43m(\u001b[49m\u001b[38;5;124;43m'\u001b[39;49m\u001b[38;5;124;43mdistance\u001b[39;49m\u001b[38;5;124;43m'\u001b[39;49m\u001b[43m,\u001b[49m\u001b[43m[\u001b[49m\u001b[38;5;241;43m1\u001b[39;49m\u001b[43m,\u001b[49m\u001b[38;5;241;43m2\u001b[39;49m\u001b[43m]\u001b[49m\u001b[43m)\u001b[49m)\n",
      "Cell \u001b[0;32mIn[62], line 16\u001b[0m, in \u001b[0;36mx_axis\u001b[0;34m(type, index_list)\u001b[0m\n\u001b[1;32m     14\u001b[0m         coordi_list_with_sym \u001b[38;5;241m=\u001b[39m [coordinate[key] \u001b[38;5;28;01mfor\u001b[39;00m key \u001b[38;5;129;01min\u001b[39;00m index_list]\n\u001b[1;32m     15\u001b[0m         coordi_list \u001b[38;5;241m=\u001b[39m [xyz_line\u001b[38;5;241m.\u001b[39msplit()[\u001b[38;5;241m1\u001b[39m:] \u001b[38;5;28;01mfor\u001b[39;00m xyz_line \u001b[38;5;129;01min\u001b[39;00m coordi_list_with_sym]\n\u001b[0;32m---> 16\u001b[0m         xaxis\u001b[38;5;241m.\u001b[39mappend(\u001b[43mdistance\u001b[49m\u001b[43m(\u001b[49m\u001b[38;5;241;43m*\u001b[39;49m\u001b[43mcoordi_list\u001b[49m\u001b[43m)\u001b[49m)\n\u001b[1;32m     17\u001b[0m \u001b[38;5;28;01melif\u001b[39;00m \u001b[38;5;28mtype\u001b[39m \u001b[38;5;241m==\u001b[39m \u001b[38;5;124m'\u001b[39m\u001b[38;5;124mangle\u001b[39m\u001b[38;5;124m'\u001b[39m:\n\u001b[1;32m     18\u001b[0m     \u001b[38;5;28;01mfor\u001b[39;00m irc \u001b[38;5;129;01min\u001b[39;00m path:\n",
      "Cell \u001b[0;32mIn[64], line 31\u001b[0m, in \u001b[0;36mdistance\u001b[0;34m(atom1, atom2)\u001b[0m\n\u001b[1;32m     28\u001b[0m \u001b[38;5;28;01mdef\u001b[39;00m \u001b[38;5;21mdistance\u001b[39m(atom1, atom2):\n\u001b[1;32m     29\u001b[0m  \u001b[38;5;66;03m#   atom1_array = np.array(atom1.split()[0:])\u001b[39;00m\n\u001b[1;32m     30\u001b[0m  \u001b[38;5;66;03m#   atom2_array = np.array(atom2.split()[0:])\u001b[39;00m\n\u001b[0;32m---> 31\u001b[0m     x1, y1, z1 \u001b[38;5;241m=\u001b[39m \u001b[38;5;28;43mfloat\u001b[39;49m\u001b[43m(\u001b[49m\u001b[43mnp\u001b[49m\u001b[38;5;241;43m.\u001b[39;49m\u001b[43marray\u001b[49m\u001b[43m(\u001b[49m\u001b[43matom1\u001b[49m\u001b[43m)\u001b[49m\u001b[43m)\u001b[49m\n\u001b[1;32m     32\u001b[0m     x2, y2, z2 \u001b[38;5;241m=\u001b[39m \u001b[38;5;28mfloat\u001b[39m(np\u001b[38;5;241m.\u001b[39marray(atom2))\n\u001b[1;32m     33\u001b[0m     distance \u001b[38;5;241m=\u001b[39m math\u001b[38;5;241m.\u001b[39msqrt((x2 \u001b[38;5;241m-\u001b[39m x1)\u001b[38;5;241m*\u001b[39m\u001b[38;5;241m*\u001b[39m\u001b[38;5;241m2\u001b[39m \u001b[38;5;241m+\u001b[39m (y2 \u001b[38;5;241m-\u001b[39m y1)\u001b[38;5;241m*\u001b[39m\u001b[38;5;241m*\u001b[39m\u001b[38;5;241m2\u001b[39m \u001b[38;5;241m+\u001b[39m (z2 \u001b[38;5;241m-\u001b[39m z1)\u001b[38;5;241m*\u001b[39m\u001b[38;5;241m*\u001b[39m\u001b[38;5;241m2\u001b[39m)\n",
      "\u001b[0;31mTypeError\u001b[0m: only length-1 arrays can be converted to Python scalars"
     ]
    }
   ],
   "source": [
    "print(x_axis('distance',[1,2]))"
   ]
  },
  {
   "cell_type": "code",
   "execution_count": null,
   "metadata": {},
   "outputs": [],
   "source": []
  }
 ],
 "metadata": {
  "kernelspec": {
   "display_name": "Python 3",
   "language": "python",
   "name": "python3"
  },
  "language_info": {
   "codemirror_mode": {
    "name": "ipython",
    "version": 3
   },
   "file_extension": ".py",
   "mimetype": "text/x-python",
   "name": "python",
   "nbconvert_exporter": "python",
   "pygments_lexer": "ipython3",
   "version": "3.10.12"
  }
 },
 "nbformat": 4,
 "nbformat_minor": 2
}
